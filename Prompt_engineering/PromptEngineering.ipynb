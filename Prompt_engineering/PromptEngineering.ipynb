{
 "cells": [
  {
   "cell_type": "code",
   "execution_count": null,
   "metadata": {},
   "outputs": [],
   "source": [
    "import os\n",
    "os.environ['OPENAI_API_KEY']=''\n",
    "os.environ['']"
   ]
  },
  {
   "cell_type": "code",
   "execution_count": 3,
   "metadata": {},
   "outputs": [
    {
     "data": {
      "text/plain": [
       "'I want you to act as a acting financial advisor for people.\\nIn an easy way, explain the basics of income tax'"
      ]
     },
     "execution_count": 3,
     "metadata": {},
     "output_type": "execute_result"
    }
   ],
   "source": [
    "from langchain import PromptTemplate\n",
    "\n",
    "\n",
    "demo_template = '''I want you to act as a acting financial advisor for people.\n",
    "In an easy way, explain the basics of {financial_concept}'''\n",
    "\n",
    "prompt = PromptTemplate(\n",
    "    input_variables=['financial_concept'],\n",
    "    template=demo_template\n",
    ")\n",
    "\n",
    "prompt.format(financial_concept='income tax')\n"
   ]
  },
  {
   "cell_type": "code",
   "execution_count": null,
   "metadata": {},
   "outputs": [],
   "source": [
    "from langchain.llms import OpenAI\n",
    "from langchain.chains import LLMChain\n",
    "\n",
    "llm=OpenAI(temprature=0.7)\n",
    "\n",
    "chain1=LLMChain(llm=llm,prompt=prompt)"
   ]
  },
  {
   "cell_type": "code",
   "execution_count": null,
   "metadata": {},
   "outputs": [],
   "source": [
    "chain1.run('income tax')"
   ]
  },
  {
   "cell_type": "code",
   "execution_count": 6,
   "metadata": {},
   "outputs": [
    {
     "data": {
      "text/plain": [
       "\"In a easy way translate the following sentence 'How are you' into Hindi\""
      ]
     },
     "execution_count": 6,
     "metadata": {},
     "output_type": "execute_result"
    }
   ],
   "source": [
    "## Language Translation\n",
    "\n",
    "from langchain import PromptTemplate\n",
    "\n",
    "template='''In a easy way translate the following sentence '{sentence}' into {target_language}'''\n",
    "\n",
    "language_prompt=PromptTemplate(\n",
    "    input_variables=['sentence','target_language'],\n",
    "    template=template\n",
    ")\n",
    "\n",
    "language_prompt.format(sentence='How are you',target_language='Hindi')"
   ]
  },
  {
   "cell_type": "code",
   "execution_count": null,
   "metadata": {},
   "outputs": [],
   "source": [
    "chain2=LLMChain(llm=llm,prompt=language_prompt)\n",
    "\n",
    "chain2({'sentence':'Hello, how are you','target_language':'Hindi'})\n"
   ]
  },
  {
   "cell_type": "code",
   "execution_count": null,
   "metadata": {},
   "outputs": [],
   "source": [
    "from langchain import PromptTemplate,FewShotPromptTemplate\n",
    "\n",
    "#first create the list of few shot example\n",
    "examples=[\n",
    "    {'word':'happy','antonym':'sad'},\n",
    "    {'word':'tall','antonym':'short'},\n",
    "]\n",
    "\n",
    "\n",
    "#next we specify the template to fromat example we have provided\n",
    "#we use PromptTemplate class from this\n",
    "\n",
    "example_formatter_template=\"\"\"Word:{word}\n",
    "Antonym:{antonym}\n",
    "\"\"\"\n",
    "\n",
    "sample_prompt=PromptTemplate(\n",
    "    input_varibale=['word','antonym'],\n",
    "    template=example_formatter_template\n",
    ")"
   ]
  },
  {
   "cell_type": "code",
   "execution_count": null,
   "metadata": {},
   "outputs": [],
   "source": [
    "#finally will create the FewShotPromptTemplate object.\n",
    "\n",
    "few_shot_prompt=FewShotPromptTemplate(\n",
    "    examples=examples,\n",
    "    prefix=\"Give antonym of every input\\n\",\n",
    "    suffix='Word: {input}\\nAntonym',\n",
    "    input_variable=['input'],\n",
    "    example_seperator=\"\\n\"\n",
    ")"
   ]
  },
  {
   "cell_type": "code",
   "execution_count": null,
   "metadata": {},
   "outputs": [],
   "source": [
    "print(few_shot_prompt.format(input='great'))"
   ]
  },
  {
   "cell_type": "code",
   "execution_count": null,
   "metadata": {},
   "outputs": [],
   "source": [
    "chain3=LLMChain(llm=llm,prompt=few_shot_prompt)\n",
    "\n",
    "chain3.run('great')\n",
    "#chain({'input':'great})"
   ]
  }
 ],
 "metadata": {
  "kernelspec": {
   "display_name": "base",
   "language": "python",
   "name": "python3"
  },
  "language_info": {
   "codemirror_mode": {
    "name": "ipython",
    "version": 3
   },
   "file_extension": ".py",
   "mimetype": "text/x-python",
   "name": "python",
   "nbconvert_exporter": "python",
   "pygments_lexer": "ipython3",
   "version": "3.11.5"
  }
 },
 "nbformat": 4,
 "nbformat_minor": 2
}
